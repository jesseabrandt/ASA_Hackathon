{
 "cells": [
  {
   "cell_type": "code",
   "execution_count": 1,
   "id": "e99aa920",
   "metadata": {},
   "outputs": [],
   "source": [
    "import pandas as pd\n",
    "from datetime import datetime\n",
    "\n"
   ]
  },
  {
   "cell_type": "code",
   "execution_count": 7,
   "id": "99de8d09",
   "metadata": {},
   "outputs": [],
   "source": [
    "#placeholders, will use input values from streamlit app\n",
    "start_date = datetime.strptime(\"2024-01-01\", \"%Y-%m-%d\").date()\n",
    "end_date = datetime.strptime(\"2024-01-31\", \"%Y-%m-%d\").date()\n",
    "\n",
    "numerical_data = pd.read_csv(\"data/numerical_data.csv\")\n",
    "text_data = pd.read_csv(\"data/text_data.csv\")"
   ]
  },
  {
   "cell_type": "code",
   "execution_count": 9,
   "id": "7aded56b",
   "metadata": {},
   "outputs": [],
   "source": [
    "# clean data\n",
    "numerical_data[\"Date\"] = pd.to_datetime(numerical_data[\"Date\"])\n",
    "text_data[\"Date\"] = pd.to_datetime(text_data[\"Date\"])"
   ]
  },
  {
   "cell_type": "code",
   "execution_count": 12,
   "id": "165d0839",
   "metadata": {},
   "outputs": [
    {
     "name": "stdout",
     "output_type": "stream",
     "text": [
      "2024-01-01 2024-01-31\n",
      "<class 'pandas.core.frame.DataFrame'>\n",
      "RangeIndex: 487 entries, 0 to 486\n",
      "Data columns (total 18 columns):\n",
      " #   Column                   Non-Null Count  Dtype         \n",
      "---  ------                   --------------  -----         \n",
      " 0   Date                     487 non-null    datetime64[ns]\n",
      " 1   Min Breathing Rate       399 non-null    float64       \n",
      " 2   Max Breathing Rate       399 non-null    float64       \n",
      " 3   Avg Breathing Rate       399 non-null    float64       \n",
      " 4   Median Breathing Rate    399 non-null    float64       \n",
      " 5   Min Heart Rate           447 non-null    float64       \n",
      " 6   Max Heart Rate           447 non-null    float64       \n",
      " 7   Avg Heart Rate           447 non-null    float64       \n",
      " 8   Median Heart Rate        447 non-null    float64       \n",
      " 9   Min Oxygen Level         261 non-null    float64       \n",
      " 10  Max Oxygen Level         261 non-null    float64       \n",
      " 11  Avg Oxygen Level         261 non-null    float64       \n",
      " 12  Median Oxygen Level      261 non-null    float64       \n",
      " 13  Light Sleep Observation  395 non-null    float64       \n",
      " 14  Deep Sleep Observation   393 non-null    float64       \n",
      " 15  Rem Sleep Observation    389 non-null    float64       \n",
      " 16  Awake Sleep Observation  440 non-null    float64       \n",
      " 17  Total Sleep Observation  456 non-null    float64       \n",
      "dtypes: datetime64[ns](1), float64(17)\n",
      "memory usage: 68.6 KB\n",
      "None\n",
      "<class 'pandas.core.frame.DataFrame'>\n",
      "RangeIndex: 8943 entries, 0 to 8942\n",
      "Data columns (total 6 columns):\n",
      " #   Column        Non-Null Count  Dtype         \n",
      "---  ------        --------------  -----         \n",
      " 0   Date          8943 non-null   datetime64[ns]\n",
      " 1   Description   8943 non-null   object        \n",
      " 2   Is Important  8943 non-null   object        \n",
      " 3   Time          8943 non-null   object        \n",
      " 4   Created By    8943 non-null   object        \n",
      " 5   Category      8943 non-null   object        \n",
      "dtypes: datetime64[ns](1), object(5)\n",
      "memory usage: 419.3+ KB\n",
      "None\n"
     ]
    }
   ],
   "source": [
    "def generate_template_summary(start_date, end_date, numerical_data, text_data):\n",
    "    \n",
    "    print(start_date, end_date)\n",
    "    print(numerical_data.info())\n",
    "    print(text_data.info())\n",
    "    #put whatever stuff is good here. but actually do analysis below\n",
    "\n",
    "generate_template_summary(start_date, end_date, numerical_data, text_data)"
   ]
  },
  {
   "cell_type": "code",
   "execution_count": null,
   "id": "699ef8c5",
   "metadata": {},
   "outputs": [
    {
     "name": "stdout",
     "output_type": "stream",
     "text": [
      "<class 'pandas.core.frame.DataFrame'>\n"
     ]
    }
   ],
   "source": [
    "correlation_matrix = numerical_data.corr()\n",
    "print(correlation_matrix.head())\n",
    "#TODO: filter out comparisons that don't make sense, like min and max of the same variable\n",
    "#then find top correlations and report and graph them\n",
    "print(type(correlation_matrix))\n"
   ]
  }
 ],
 "metadata": {
  "kernelspec": {
   "display_name": ".venv",
   "language": "python",
   "name": "python3"
  },
  "language_info": {
   "codemirror_mode": {
    "name": "ipython",
    "version": 3
   },
   "file_extension": ".py",
   "mimetype": "text/x-python",
   "name": "python",
   "nbconvert_exporter": "python",
   "pygments_lexer": "ipython3",
   "version": "3.12.8"
  }
 },
 "nbformat": 4,
 "nbformat_minor": 5
}
